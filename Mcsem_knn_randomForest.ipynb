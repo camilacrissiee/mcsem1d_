{
  "nbformat": 4,
  "nbformat_minor": 0,
  "metadata": {
    "colab": {
      "provenance": [],
      "include_colab_link": true
    },
    "kernelspec": {
      "name": "python3",
      "display_name": "Python 3"
    },
    "language_info": {
      "name": "python"
    }
  },
  "cells": [
    {
      "cell_type": "markdown",
      "metadata": {
        "id": "view-in-github",
        "colab_type": "text"
      },
      "source": [
        "<a href=\"https://colab.research.google.com/github/camilacrissiee/mcsem1d_/blob/main/Mcsem_knn_randomForest.ipynb\" target=\"_parent\"><img src=\"https://colab.research.google.com/assets/colab-badge.svg\" alt=\"Open In Colab\"/></a>"
      ]
    },
    {
      "cell_type": "markdown",
      "source": [
        "# Serão usados os modelos: Knn, Adaboost e Random Forest\n",
        "O método de Random Forest é construído da mesma forma que algoritmos mais básicos, como regressão linear, árvore de decisão ou knn, por exemplo, mas possuem uma característica principal que os diferenciam, a combinação de diferentes modelos para se obter um único resultado."
      ],
      "metadata": {
        "id": "JlX1F026dzrd"
      }
    },
    {
      "cell_type": "code",
      "source": [
        "!git clone https://github.com/camilacrissiee/mcsem1d_.git"
      ],
      "metadata": {
        "id": "7gUCoXFxH-pF",
        "colab": {
          "base_uri": "https://localhost:8080/"
        },
        "outputId": "90dc0270-426c-48b9-8eb7-5224dbd08c64"
      },
      "execution_count": 5,
      "outputs": [
        {
          "output_type": "stream",
          "name": "stdout",
          "text": [
            "Cloning into 'mcsem1d_'...\n",
            "remote: Enumerating objects: 18, done.\u001b[K\n",
            "remote: Counting objects: 100% (18/18), done.\u001b[K\n",
            "remote: Compressing objects: 100% (16/16), done.\u001b[K\n",
            "remote: Total 18 (delta 1), reused 0 (delta 0), pack-reused 0\u001b[K\n",
            "Unpacking objects: 100% (18/18), done.\n"
          ]
        }
      ]
    },
    {
      "cell_type": "code",
      "source": [
        "pip install lasio"
      ],
      "metadata": {
        "id": "Rijl30XFIMun",
        "colab": {
          "base_uri": "https://localhost:8080/"
        },
        "outputId": "b03261f7-3d39-4b5c-9844-692ad1a762ad"
      },
      "execution_count": 6,
      "outputs": [
        {
          "output_type": "stream",
          "name": "stdout",
          "text": [
            "Looking in indexes: https://pypi.org/simple, https://us-python.pkg.dev/colab-wheels/public/simple/\n",
            "Collecting lasio\n",
            "  Downloading lasio-0.30-py2.py3-none-any.whl (43 kB)\n",
            "\u001b[?25l\r\u001b[K     |███████▌                        | 10 kB 21.7 MB/s eta 0:00:01\r\u001b[K     |███████████████                 | 20 kB 16.3 MB/s eta 0:00:01\r\u001b[K     |██████████████████████▌         | 30 kB 11.3 MB/s eta 0:00:01\r\u001b[K     |██████████████████████████████  | 40 kB 4.7 MB/s eta 0:00:01\r\u001b[K     |████████████████████████████████| 43 kB 1.5 MB/s \n",
            "\u001b[?25hRequirement already satisfied: numpy in /usr/local/lib/python3.7/dist-packages (from lasio) (1.21.6)\n",
            "Installing collected packages: lasio\n",
            "Successfully installed lasio-0.30\n"
          ]
        }
      ]
    },
    {
      "cell_type": "markdown",
      "source": [
        "## Alocando e concatenando os dados"
      ],
      "metadata": {
        "id": "3gyswmI4Cmu4"
      }
    },
    {
      "cell_type": "code",
      "execution_count": 7,
      "metadata": {
        "id": "Iqt1bDyqEBie"
      },
      "outputs": [],
      "source": [
        "import pandas as pd\n",
        "import numpy as np\n",
        "import matplotlib.pyplot as plt\n",
        "from random import randint\n",
        "from math import pi as PI\n",
        "from sklearn.metrics import mean_squared_error\n",
        "from sklearn.model_selection import train_test_split\n",
        "import lasio\n",
        "\n",
        "plt.style.use('ggplot')"
      ]
    },
    {
      "cell_type": "code",
      "source": [
        "modelo1 = pd.read_csv('mcsem1d_/train_h2000sed_0p25.csv') # complete\n",
        "modelo2 = pd.read_csv('mcsem1d_/train_h2000sed_0p5.csv') # complete\n",
        "modelo3 = pd.read_csv('mcsem1d_/train_h2000sed_0p75.csv') # complete\n",
        "modelo4 = pd.read_csv('mcsem1d_/train_h2000sed_0p25_2.csv') # complete\n",
        "modelo5 = pd.read_csv('mcsem1d_/train_h2000sed_0p5_2.csv') # complete\n",
        "modelo6 = pd.read_csv('mcsem1d_/train_h2000sed_0p75_2.csv') # complete\n",
        "modelo7 = pd.read_csv('mcsem1d_/train_h2000sed_0p25_5.csv') # complete\n",
        "modelo8 = pd.read_csv('mcsem1d_/train_h2000sed_0p5_5.csv') # complete\n",
        "modelo9 = pd.read_csv('mcsem1d_/train_h2000sed_0p75_5.csv') # complete\n",
        "modelo10 = pd.read_csv('mcsem1d_/test_h2000sed_0p25_2.csv') # complete"
      ],
      "metadata": {
        "id": "u61aI4_KI0fR"
      },
      "execution_count": 8,
      "outputs": []
    },
    {
      "cell_type": "code",
      "source": [
        "#modelo_1 = modelo1.rename(columns = {'z':'z',\t'ex_imag' :'ex_imag' ,\t'ex_imag': 'ex_imag',\t'rho' : 'rho'})"
      ],
      "metadata": {
        "id": "7zL3a-IMD7Hd"
      },
      "execution_count": 9,
      "outputs": []
    },
    {
      "cell_type": "code",
      "source": [
        "# Definindo as colunas de features\n",
        "\n",
        "x1 = modelo1.iloc[:,[0,1,2,3,4]].values \n",
        "x2 = modelo2.iloc[:,[0,1,2,3,4]].values \n",
        "x3 = modelo3.iloc[:,[0,1,2,3,4]].values \n",
        "x4 = modelo4.iloc[:,[0,1,2,3,4]].values \n",
        "x5 = modelo5.iloc[:,[0,1,2,3,4]].values \n",
        "x6 = modelo6.iloc[:,[0,1,2,3,4]].values \n",
        "x7 = modelo7.iloc[:,[0,1,2,3,4]].values \n",
        "x8 = modelo8.iloc[:,[0,1,2,3,4]].values\n",
        "x9 = modelo9.iloc[:,[0,1,2,3,4]].values \n",
        "x10 = modelo10.iloc[:,[0,1,2,3,4]].values "
      ],
      "metadata": {
        "id": "7HoBUHURFoxE"
      },
      "execution_count": 10,
      "outputs": []
    },
    {
      "cell_type": "code",
      "source": [
        "# Definindo a coluna de target\n",
        "y1 = modelo1.iloc[:,[5]].values \n",
        "y2 = modelo2.iloc[:,[5]].values \n",
        "y3 = modelo3.iloc[:,[5]].values \n",
        "y4 = modelo4.iloc[:,[5]].values \n",
        "y5 = modelo5.iloc[:,[5]].values \n",
        "y6 = modelo6.iloc[:,[5]].values \n",
        "y7 = modelo7.iloc[:,[5]].values \n",
        "y8 = modelo8.iloc[:,[5]].values\n",
        "y9 = modelo9.iloc[:,[5]].values \n",
        "y10 = modelo10.iloc[:,[5]].values "
      ],
      "metadata": {
        "id": "wR1ifVarGwQb"
      },
      "execution_count": 11,
      "outputs": []
    },
    {
      "cell_type": "code",
      "source": [
        "#PEGA 30% DE CADA MODELO PARA VALIDAR NO PRÓPRIO MODELO\n",
        "# DE 9 MODELOS QUE FORAM USADOS PARA TRINAR E VALIDAR \n",
        "\n",
        "x1_train, x1_valid, y1_train, y1_valid = train_test_split(x1, y1, test_size=0.7)\n",
        "x2_train, x2_valid, y2_train, y2_valid = train_test_split(x2, y2, test_size=0.7) \n",
        "x3_train, x3_valid, y3_train, y3_valid = train_test_split(x3, y3, test_size=0.7)\n",
        "x4_train, x4_valid, y4_train, y4_valid = train_test_split(x4, y4, test_size=0.7)\n",
        "x5_train, x5_valid, y5_train, y5_valid = train_test_split(x5, y5, test_size=0.7) \n",
        "x6_train, x6_valid, y6_train, y6_valid = train_test_split(x6, y6, test_size=0.7)\n",
        "x7_train, x7_valid, y7_train, y7_valid = train_test_split(x7, y7, test_size=0.7) \n",
        "x8_train, x8_valid, y8_train, y8_valid = train_test_split(x8, y8, test_size=0.7)\n",
        "x9_train, x9_valid, y9_train, y9_valid = train_test_split(x9, y9, test_size=0.7)"
      ],
      "metadata": {
        "id": "bfKjSyjCSGB5"
      },
      "execution_count": 12,
      "outputs": []
    },
    {
      "cell_type": "code",
      "source": [
        "# CONCATENANDO OS DADOS DE REFERÊNCIA\n",
        "# X_ref = concatenando as features\n",
        "# Y_ref = concatenando o target\n",
        "X_ref_train = np.concatenate((x1_train, x2_train,x3_train, x4_train, x5_train,x6_train, x7_train, x8_train, x9_train), axis = 0) \n",
        "X_ref_valid = x9_valid \n",
        "\n",
        "y_ref_train = np.concatenate((y1_train, y2_train,y3_train, y4_train, y5_train,y6_train, y7_train, y8_train,y9_train), axis = 0) \n",
        "y_ref_valid = y9_valid"
      ],
      "metadata": {
        "id": "SPke85rgSxOr"
      },
      "execution_count": 13,
      "outputs": []
    },
    {
      "cell_type": "markdown",
      "source": [
        "## Escalonamento dos dados: Standard Scaler"
      ],
      "metadata": {
        "id": "D4hkat1zYBmb"
      }
    },
    {
      "cell_type": "markdown",
      "source": [
        "Padroniza as features removendo a média e escala a variância a uma unidade. Isso significa que para cada feature, a média seria 0, e o Desvio Padrão seria 1. Desta forma, as features são padronizadas, tornando-as mais manejáveis para nossos modelos."
      ],
      "metadata": {
        "id": "-7SPmGoQad3M"
      }
    },
    {
      "cell_type": "code",
      "source": [
        "from sklearn.preprocessing import StandardScaler"
      ],
      "metadata": {
        "id": "Peu7IH_rZi0s"
      },
      "execution_count": 14,
      "outputs": []
    },
    {
      "cell_type": "code",
      "source": [
        "scalerX = StandardScaler()\n",
        "scalery = StandardScaler()\n",
        "x_ref_train_sclnd = scalerX.fit_transform(X_ref_train) #Modelos concatenados de\n",
        "                                  # referência para o treinamento, e agora com o pre processamento\n",
        "x_ref_valid_sclnd = scalerX.transform(X_ref_valid) #Modelos concatenados de\n",
        "                                  # referência para a validação, e agora com o pre processamento\n",
        "x_test_sclnd = scalerX.transform(x10) # Modelo para testar, vamos fazer o teste no modelo 10"
      ],
      "metadata": {
        "id": "-tpEAvKOYQM0"
      },
      "execution_count": 15,
      "outputs": []
    },
    {
      "cell_type": "markdown",
      "source": [
        "## KNN - Regressão"
      ],
      "metadata": {
        "id": "tQrEl0yPal7R"
      }
    },
    {
      "cell_type": "code",
      "source": [
        "from sklearn.neighbors import KNeighborsRegressor\n",
        "#{'metric': 'manhattan', 'n_neighbors': 55, 'weights': 'distance'}\n",
        "neigh_model = KNeighborsRegressor(n_neighbors=10, weights='distance', metric='manhattan')\n",
        "neigh_model.fit(X_ref_train, y_ref_train)\n",
        "\n",
        "y_pred_valid_knnr = neigh_model.predict(X_ref_valid) \n",
        "\n",
        "y_pred_test_knnr = neigh_model.predict(x10)\n",
        "\n",
        "##erro relativo\n",
        "\n",
        "er_knnr = (y_pred_test_knnr - y10)/y10"
      ],
      "metadata": {
        "id": "0eoaMtBLakhg"
      },
      "execution_count": 16,
      "outputs": []
    },
    {
      "cell_type": "code",
      "source": [
        "x10[:,0]"
      ],
      "metadata": {
        "colab": {
          "base_uri": "https://localhost:8080/"
        },
        "id": "SgiQA1KCf9KC",
        "outputId": "713e0e54-1d6f-4468-bcd9-d0e02b61adf0"
      },
      "execution_count": 17,
      "outputs": [
        {
          "output_type": "execute_result",
          "data": {
            "text/plain": [
              "array([1509.        , 1542.53333333, 1576.06666667, 1609.6       ,\n",
              "       1643.13333333, 1676.66666667, 1710.2       , 1743.73333333,\n",
              "       1777.26666667, 1810.8       , 1844.33333333, 1877.86666667,\n",
              "       1911.4       , 1944.93333333, 1978.46666667, 2012.        ,\n",
              "       2045.53333333, 2079.06666667, 2112.6       , 2146.13333333,\n",
              "       2179.66666667, 2213.2       , 2246.73333333, 2280.26666667,\n",
              "       2313.8       , 2347.33333333, 2380.86666667, 2414.4       ,\n",
              "       2447.93333333, 2481.46666667, 2515.        , 2548.53333333,\n",
              "       2582.06666667, 2615.6       , 2649.13333333, 2682.66666667,\n",
              "       2716.2       , 2749.73333333, 2783.26666667, 2816.8       ,\n",
              "       2850.33333333, 2883.86666667, 2917.4       , 2950.93333333,\n",
              "       2984.46666667, 3018.        , 3051.53333333, 3085.06666667,\n",
              "       3118.6       , 3152.13333333, 3185.66666667, 3219.2       ,\n",
              "       3252.73333333, 3286.26666667, 3319.8       , 3353.33333333,\n",
              "       3386.86666667, 3420.4       , 3453.93333333, 3487.46666667,\n",
              "       3521.        , 3554.53333333, 3588.06666667, 3621.6       ,\n",
              "       3655.13333333, 3688.66666667])"
            ]
          },
          "metadata": {},
          "execution_count": 17
        }
      ]
    },
    {
      "cell_type": "code",
      "source": [
        "y10[:,0]"
      ],
      "metadata": {
        "colab": {
          "base_uri": "https://localhost:8080/"
        },
        "id": "3gZAHRxam0Kx",
        "outputId": "284da4e3-6997-4144-e6a3-a79251c9b800"
      },
      "execution_count": 18,
      "outputs": [
        {
          "output_type": "execute_result",
          "data": {
            "text/plain": [
              "array([ 2.,  2.,  2.,  2.,  2.,  2.,  2.,  2.,  2.,  2.,  2.,  2.,  2.,\n",
              "        2.,  2., 90., 90., 90.,  2.,  2.,  2.,  2.,  2.,  2.,  2.,  2.,\n",
              "        2.,  2.,  2.,  2.,  2.,  2.,  2.,  2.,  2.,  2.,  2.,  2.,  2.,\n",
              "        2.,  2.,  2.,  2.,  2.,  2.,  2.,  2.,  2.,  2.,  2.,  2.,  2.,\n",
              "        2.,  2.,  2.,  2.,  2.,  2.,  2.,  2.,  2.,  2.,  2.,  2.,  2.,\n",
              "        2.])"
            ]
          },
          "metadata": {},
          "execution_count": 18
        }
      ]
    },
    {
      "cell_type": "code",
      "source": [
        "y_pred_valid_knnr"
      ],
      "metadata": {
        "colab": {
          "base_uri": "https://localhost:8080/"
        },
        "id": "bXTuFRJ2n4dA",
        "outputId": "307b39bc-6de5-4585-a21b-cfa9de5d2761"
      },
      "execution_count": 19,
      "outputs": [
        {
          "output_type": "execute_result",
          "data": {
            "text/plain": [
              "array([[37.02753955],\n",
              "       [ 1.62300006],\n",
              "       [ 1.        ],\n",
              "       [ 1.6554078 ],\n",
              "       [ 1.        ],\n",
              "       [83.59141917],\n",
              "       [ 2.97362961],\n",
              "       [ 2.17957097],\n",
              "       [80.        ],\n",
              "       [ 2.        ],\n",
              "       [ 2.        ],\n",
              "       [ 2.        ],\n",
              "       [ 1.98828138],\n",
              "       [ 3.46567167],\n",
              "       [ 3.09889894],\n",
              "       [ 1.        ],\n",
              "       [ 2.        ],\n",
              "       [70.00804045],\n",
              "       [25.05763535],\n",
              "       [ 2.05312276],\n",
              "       [ 1.63790694],\n",
              "       [ 3.01041038],\n",
              "       [ 2.66823097],\n",
              "       [ 1.67728481],\n",
              "       [83.64280704],\n",
              "       [ 3.03726823],\n",
              "       [ 2.        ],\n",
              "       [ 2.52380952],\n",
              "       [ 2.73882059],\n",
              "       [ 1.90507817],\n",
              "       [ 2.        ],\n",
              "       [ 5.23898767],\n",
              "       [ 1.        ],\n",
              "       [ 1.        ],\n",
              "       [ 2.        ],\n",
              "       [ 2.25817801],\n",
              "       [ 3.48903036],\n",
              "       [ 1.76862252],\n",
              "       [ 1.88791611],\n",
              "       [ 2.57502686],\n",
              "       [ 1.60646139],\n",
              "       [ 3.13155928],\n",
              "       [ 1.99280166],\n",
              "       [ 1.61473094],\n",
              "       [ 3.06118604],\n",
              "       [ 1.        ],\n",
              "       [ 2.88152356]])"
            ]
          },
          "metadata": {},
          "execution_count": 19
        }
      ]
    },
    {
      "cell_type": "code",
      "source": [
        "y_pred_test_knnr"
      ],
      "metadata": {
        "colab": {
          "base_uri": "https://localhost:8080/"
        },
        "id": "wT2o-3Mofs7X",
        "outputId": "87f43be4-a6e0-4c21-9fbf-d7c3a6b423d8"
      },
      "execution_count": 20,
      "outputs": [
        {
          "output_type": "execute_result",
          "data": {
            "text/plain": [
              "array([[ 2.18730674],\n",
              "       [ 5.        ],\n",
              "       [ 5.        ],\n",
              "       [ 3.3468268 ],\n",
              "       [ 1.        ],\n",
              "       [ 3.24968324],\n",
              "       [ 5.        ],\n",
              "       [ 3.26724728],\n",
              "       [ 1.        ],\n",
              "       [ 2.        ],\n",
              "       [ 2.09271855],\n",
              "       [ 1.99298473],\n",
              "       [ 1.91429972],\n",
              "       [ 2.        ],\n",
              "       [ 2.32541168],\n",
              "       [65.06948068],\n",
              "       [85.70589153],\n",
              "       [80.26489273],\n",
              "       [25.43362228],\n",
              "       [ 5.        ],\n",
              "       [ 5.        ],\n",
              "       [ 4.36451014],\n",
              "       [ 5.        ],\n",
              "       [ 1.        ],\n",
              "       [ 5.        ],\n",
              "       [ 1.        ],\n",
              "       [ 5.        ],\n",
              "       [ 1.        ],\n",
              "       [ 2.74338328],\n",
              "       [ 5.        ],\n",
              "       [ 1.99045474],\n",
              "       [ 3.93051989],\n",
              "       [ 5.        ],\n",
              "       [ 2.6593057 ],\n",
              "       [ 5.        ],\n",
              "       [ 3.89137381],\n",
              "       [ 5.        ],\n",
              "       [ 1.        ],\n",
              "       [ 5.        ],\n",
              "       [ 3.71600532],\n",
              "       [ 5.        ],\n",
              "       [ 4.43217666],\n",
              "       [ 5.        ],\n",
              "       [ 4.48275862],\n",
              "       [ 4.28244275],\n",
              "       [ 5.        ],\n",
              "       [ 3.85714286],\n",
              "       [ 2.70698518],\n",
              "       [ 3.70559631],\n",
              "       [ 3.61198738],\n",
              "       [ 5.        ],\n",
              "       [ 3.37037037],\n",
              "       [ 1.        ],\n",
              "       [ 5.        ],\n",
              "       [ 5.        ],\n",
              "       [ 3.80878274],\n",
              "       [ 3.33112583],\n",
              "       [ 1.        ],\n",
              "       [ 5.        ],\n",
              "       [ 3.92055791],\n",
              "       [ 3.72895549],\n",
              "       [ 3.69224354],\n",
              "       [ 3.83066806],\n",
              "       [ 5.        ],\n",
              "       [ 3.20052911],\n",
              "       [ 1.        ]])"
            ]
          },
          "metadata": {},
          "execution_count": 20
        }
      ]
    },
    {
      "cell_type": "markdown",
      "source": [
        "## Random Forest - Regressão\n",
        "No algoritmo RandomForest serão criadas várias árvores de decisão, sendo este conhecimento fundamental para o entendimento do algoritmo.\n",
        "Árvores de Decisão (Decision Trees): As Árvores de Decisão estabelecem regras para tomada de decisão. O algoritmo criará uma estrutura similar a um fluxograma, com “nós” onde uma condição é verificada, e se atendida o fluxo segue por um ramo, caso contrário, por outro, sempre levando ao próximo nó, até a finalização da árvore. Com os dados de treino, o algoritmo busca as melhores condições, e onde inserir cada uma dentro do fluxo."
      ],
      "metadata": {
        "id": "-y9D8-j4azf3"
      }
    },
    {
      "cell_type": "markdown",
      "source": [],
      "metadata": {
        "id": "3tGqrAGKdymD"
      }
    },
    {
      "cell_type": "code",
      "source": [
        "from sklearn.ensemble import RandomForestRegressor\n",
        "from sklearn.model_selection import train_test_split"
      ],
      "metadata": {
        "id": "eDwTKhHPC5pq"
      },
      "execution_count": 35,
      "outputs": []
    },
    {
      "cell_type": "code",
      "source": [
        "regressor = RandomForestRegressor(n_estimators = 50, random_state = 0)\n",
        "regressor.fit(X_ref_train, y_ref_train)"
      ],
      "metadata": {
        "colab": {
          "base_uri": "https://localhost:8080/"
        },
        "id": "DgbMSySxhQip",
        "outputId": "28cfd1b4-ba33-4299-de4a-05df3b887657"
      },
      "execution_count": 41,
      "outputs": [
        {
          "output_type": "stream",
          "name": "stderr",
          "text": [
            "/usr/local/lib/python3.7/dist-packages/ipykernel_launcher.py:2: DataConversionWarning:\n",
            "\n",
            "A column-vector y was passed when a 1d array was expected. Please change the shape of y to (n_samples,), for example using ravel().\n",
            "\n"
          ]
        },
        {
          "output_type": "execute_result",
          "data": {
            "text/plain": [
              "RandomForestRegressor(n_estimators=50, random_state=0)"
            ]
          },
          "metadata": {},
          "execution_count": 41
        }
      ]
    },
    {
      "cell_type": "code",
      "source": [
        "X_ref_train = np.concatenate((x1_train, x2_train,x3_train, x4_train, x5_train,x6_train, x7_train, x8_train, x9_train), axis = 0) \n",
        "X_ref_valid = x9_valid \n",
        "\n",
        "y_ref_train = np.concatenate((y1_train, y2_train,y3_train, y4_train, y5_train,y6_train, y7_train, y8_train,y9_train), axis = 0) \n",
        "y_ref_valid = y9_valid"
      ],
      "metadata": {
        "id": "FaOONCwggEb8"
      },
      "execution_count": 42,
      "outputs": []
    },
    {
      "cell_type": "code",
      "source": [
        "y_pred_valid_randon = regressor.predict(X_ref_valid) \n",
        "\n",
        "y_pred_test_randon = regressor.predict(x10)\n",
        "\n",
        "##erro relativo\n",
        "\n",
        "er_randon = (y_pred_test_knnr - y10)/y10"
      ],
      "metadata": {
        "id": "9axvnnbxSjgX"
      },
      "execution_count": 43,
      "outputs": []
    },
    {
      "cell_type": "code",
      "source": [
        "y_pred_test_randon"
      ],
      "metadata": {
        "colab": {
          "base_uri": "https://localhost:8080/"
        },
        "id": "JS9HFJiZkjbu",
        "outputId": "e8afdd79-5179-4a74-95ef-5b617c5e7b7c"
      },
      "execution_count": 50,
      "outputs": [
        {
          "output_type": "execute_result",
          "data": {
            "text/plain": [
              "array([ 1.89333333,  4.45166667,  4.85      ,  2.59866667,  1.46566667,\n",
              "        3.03066667,  4.76      ,  2.912     ,  1.23533333,  2.58666667,\n",
              "        2.        ,  1.95666667,  1.505     ,  2.55333333,  3.358     ,\n",
              "       79.08666667, 93.70333333, 85.83333333, 23.02333333,  6.04666667,\n",
              "        4.46266667,  3.21333333,  3.696     ,  1.32      ,  3.4       ,\n",
              "        2.36      ,  4.76      ,  1.53333333,  3.27066667,  4.84      ,\n",
              "        2.36      ,  4.72      ,  4.83333333,  3.06133333,  4.68      ,\n",
              "        5.        ,  4.2       ,  2.28      ,  4.01333333,  3.41266667,\n",
              "        4.8       ,  4.92      ,  4.92      ,  5.        ,  5.        ,\n",
              "        4.72      ,  2.93466667,  2.88133333,  2.98133333,  3.04133333,\n",
              "        4.228     ,  3.8       ,  2.2       ,  3.88      ,  4.424     ,\n",
              "        3.24495238,  1.75466667,  2.25333333,  4.73333333,  4.73333333,\n",
              "        4.76      ,  4.92      ,  3.96      ,  3.96      ,  3.96      ,\n",
              "        2.12      ])"
            ]
          },
          "metadata": {},
          "execution_count": 50
        }
      ]
    },
    {
      "cell_type": "code",
      "source": [
        "#Verificando o modelo de teste (modelo 10)\n",
        "\n",
        "#Mape\n",
        "mape_randon = mean_absolute_percentage_error(y10, y_pred_test_randon)\n",
        "\n",
        "#O erro quadrático médio para o modelo de teste\n",
        "mse_randon = mean_squared_error(y10, y_pred_test_randon, squared= True)\n",
        "\n",
        "# R2\n",
        "r2_randon = r2_score(y10, y_pred_test_randon)"
      ],
      "metadata": {
        "id": "2KHP2gsYH5tM"
      },
      "execution_count": 44,
      "outputs": []
    },
    {
      "cell_type": "markdown",
      "source": [
        "## Analisando o erro"
      ],
      "metadata": {
        "id": "F-dPfikfkTRK"
      }
    },
    {
      "cell_type": "code",
      "source": [
        "from sklearn.metrics import mean_absolute_percentage_error\n",
        "from sklearn.metrics import mean_absolute_error\n",
        "from sklearn.metrics import mean_squared_error\n",
        "from sklearn.metrics import r2_score"
      ],
      "metadata": {
        "id": "Xx2akzgCkTRM"
      },
      "execution_count": null,
      "outputs": []
    },
    {
      "cell_type": "code",
      "source": [
        "import plotly.graph_objects as go"
      ],
      "metadata": {
        "id": "ZghVtEYgkTRM"
      },
      "execution_count": null,
      "outputs": []
    },
    {
      "cell_type": "code",
      "source": [
        "#Verificando o modelo de teste (modelo 10)\n",
        "\n",
        "#Mape\n",
        "mape_knnr = mean_absolute_percentage_error(y10, y_pred_test_knnr)\n",
        "\n",
        "#O erro quadrático médio para o modelo de teste\n",
        "mse_knnr = mean_squared_error(y10, y_pred_test_knnr, squared= True)\n",
        "\n",
        "# R2\n",
        "r2_knnr = r2_score(y10, y_pred_test_knnr)"
      ],
      "metadata": {
        "id": "Pw38yme4kTRN"
      },
      "execution_count": null,
      "outputs": []
    },
    {
      "cell_type": "code",
      "source": [
        "fig = go.Figure(data=[go.Table(header=dict(values=['Métricas','Knnr - Dado observado','Randon - Dado observado'],\n",
        "                                         align=['center','center'],\n",
        "                                         font=dict(size=14)),\n",
        "                cells=dict(values=[['MAPE','MSE','R2 Score'],\n",
        "                           [\"{:.5f}\".format(mape_knnr),\"{:.5f}\".format(mse_knnr), \"{:.5f}\".format(r2_knnr)],\n",
        "                           [\"{:.5f}\".format(mape_randon),\"{:.5f}\".format(mse_randon), \"{:.5f}\".format(r2_randon)],],)),])\n",
        "                \n",
        "fig.show()"
      ],
      "metadata": {
        "colab": {
          "base_uri": "https://localhost:8080/",
          "height": 542
        },
        "outputId": "cb71e63f-1bb4-45f8-e925-986ddd988c21",
        "id": "Lk6uqP9rkTRN"
      },
      "execution_count": null,
      "outputs": [
        {
          "output_type": "display_data",
          "data": {
            "text/html": [
              "<html>\n",
              "<head><meta charset=\"utf-8\" /></head>\n",
              "<body>\n",
              "    <div>            <script src=\"https://cdnjs.cloudflare.com/ajax/libs/mathjax/2.7.5/MathJax.js?config=TeX-AMS-MML_SVG\"></script><script type=\"text/javascript\">if (window.MathJax) {MathJax.Hub.Config({SVG: {font: \"STIX-Web\"}});}</script>                <script type=\"text/javascript\">window.PlotlyConfig = {MathJaxConfig: 'local'};</script>\n",
              "        <script src=\"https://cdn.plot.ly/plotly-2.8.3.min.js\"></script>                <div id=\"aa2efb64-6b75-4552-97a3-38a6d7ab3ef3\" class=\"plotly-graph-div\" style=\"height:525px; width:100%;\"></div>            <script type=\"text/javascript\">                                    window.PLOTLYENV=window.PLOTLYENV || {};                                    if (document.getElementById(\"aa2efb64-6b75-4552-97a3-38a6d7ab3ef3\")) {                    Plotly.newPlot(                        \"aa2efb64-6b75-4552-97a3-38a6d7ab3ef3\",                        [{\"cells\":{\"values\":[[\"MAPE\",\"MSE\",\"R2 Score\"],[\"1.03135\",\"23.51279\",\"0.93002\"],[\"0.93078\",\"12.52144\",\"0.96273\"]]},\"header\":{\"align\":[\"center\",\"center\"],\"font\":{\"size\":14},\"values\":[\"M\\u00e9tricas\",\"Knnr - Dado observado\",\"Randon - Dado observado\"]},\"type\":\"table\"}],                        {\"template\":{\"data\":{\"bar\":[{\"error_x\":{\"color\":\"#2a3f5f\"},\"error_y\":{\"color\":\"#2a3f5f\"},\"marker\":{\"line\":{\"color\":\"#E5ECF6\",\"width\":0.5},\"pattern\":{\"fillmode\":\"overlay\",\"size\":10,\"solidity\":0.2}},\"type\":\"bar\"}],\"barpolar\":[{\"marker\":{\"line\":{\"color\":\"#E5ECF6\",\"width\":0.5},\"pattern\":{\"fillmode\":\"overlay\",\"size\":10,\"solidity\":0.2}},\"type\":\"barpolar\"}],\"carpet\":[{\"aaxis\":{\"endlinecolor\":\"#2a3f5f\",\"gridcolor\":\"white\",\"linecolor\":\"white\",\"minorgridcolor\":\"white\",\"startlinecolor\":\"#2a3f5f\"},\"baxis\":{\"endlinecolor\":\"#2a3f5f\",\"gridcolor\":\"white\",\"linecolor\":\"white\",\"minorgridcolor\":\"white\",\"startlinecolor\":\"#2a3f5f\"},\"type\":\"carpet\"}],\"choropleth\":[{\"colorbar\":{\"outlinewidth\":0,\"ticks\":\"\"},\"type\":\"choropleth\"}],\"contour\":[{\"colorbar\":{\"outlinewidth\":0,\"ticks\":\"\"},\"colorscale\":[[0.0,\"#0d0887\"],[0.1111111111111111,\"#46039f\"],[0.2222222222222222,\"#7201a8\"],[0.3333333333333333,\"#9c179e\"],[0.4444444444444444,\"#bd3786\"],[0.5555555555555556,\"#d8576b\"],[0.6666666666666666,\"#ed7953\"],[0.7777777777777778,\"#fb9f3a\"],[0.8888888888888888,\"#fdca26\"],[1.0,\"#f0f921\"]],\"type\":\"contour\"}],\"contourcarpet\":[{\"colorbar\":{\"outlinewidth\":0,\"ticks\":\"\"},\"type\":\"contourcarpet\"}],\"heatmap\":[{\"colorbar\":{\"outlinewidth\":0,\"ticks\":\"\"},\"colorscale\":[[0.0,\"#0d0887\"],[0.1111111111111111,\"#46039f\"],[0.2222222222222222,\"#7201a8\"],[0.3333333333333333,\"#9c179e\"],[0.4444444444444444,\"#bd3786\"],[0.5555555555555556,\"#d8576b\"],[0.6666666666666666,\"#ed7953\"],[0.7777777777777778,\"#fb9f3a\"],[0.8888888888888888,\"#fdca26\"],[1.0,\"#f0f921\"]],\"type\":\"heatmap\"}],\"heatmapgl\":[{\"colorbar\":{\"outlinewidth\":0,\"ticks\":\"\"},\"colorscale\":[[0.0,\"#0d0887\"],[0.1111111111111111,\"#46039f\"],[0.2222222222222222,\"#7201a8\"],[0.3333333333333333,\"#9c179e\"],[0.4444444444444444,\"#bd3786\"],[0.5555555555555556,\"#d8576b\"],[0.6666666666666666,\"#ed7953\"],[0.7777777777777778,\"#fb9f3a\"],[0.8888888888888888,\"#fdca26\"],[1.0,\"#f0f921\"]],\"type\":\"heatmapgl\"}],\"histogram\":[{\"marker\":{\"pattern\":{\"fillmode\":\"overlay\",\"size\":10,\"solidity\":0.2}},\"type\":\"histogram\"}],\"histogram2d\":[{\"colorbar\":{\"outlinewidth\":0,\"ticks\":\"\"},\"colorscale\":[[0.0,\"#0d0887\"],[0.1111111111111111,\"#46039f\"],[0.2222222222222222,\"#7201a8\"],[0.3333333333333333,\"#9c179e\"],[0.4444444444444444,\"#bd3786\"],[0.5555555555555556,\"#d8576b\"],[0.6666666666666666,\"#ed7953\"],[0.7777777777777778,\"#fb9f3a\"],[0.8888888888888888,\"#fdca26\"],[1.0,\"#f0f921\"]],\"type\":\"histogram2d\"}],\"histogram2dcontour\":[{\"colorbar\":{\"outlinewidth\":0,\"ticks\":\"\"},\"colorscale\":[[0.0,\"#0d0887\"],[0.1111111111111111,\"#46039f\"],[0.2222222222222222,\"#7201a8\"],[0.3333333333333333,\"#9c179e\"],[0.4444444444444444,\"#bd3786\"],[0.5555555555555556,\"#d8576b\"],[0.6666666666666666,\"#ed7953\"],[0.7777777777777778,\"#fb9f3a\"],[0.8888888888888888,\"#fdca26\"],[1.0,\"#f0f921\"]],\"type\":\"histogram2dcontour\"}],\"mesh3d\":[{\"colorbar\":{\"outlinewidth\":0,\"ticks\":\"\"},\"type\":\"mesh3d\"}],\"parcoords\":[{\"line\":{\"colorbar\":{\"outlinewidth\":0,\"ticks\":\"\"}},\"type\":\"parcoords\"}],\"pie\":[{\"automargin\":true,\"type\":\"pie\"}],\"scatter\":[{\"marker\":{\"colorbar\":{\"outlinewidth\":0,\"ticks\":\"\"}},\"type\":\"scatter\"}],\"scatter3d\":[{\"line\":{\"colorbar\":{\"outlinewidth\":0,\"ticks\":\"\"}},\"marker\":{\"colorbar\":{\"outlinewidth\":0,\"ticks\":\"\"}},\"type\":\"scatter3d\"}],\"scattercarpet\":[{\"marker\":{\"colorbar\":{\"outlinewidth\":0,\"ticks\":\"\"}},\"type\":\"scattercarpet\"}],\"scattergeo\":[{\"marker\":{\"colorbar\":{\"outlinewidth\":0,\"ticks\":\"\"}},\"type\":\"scattergeo\"}],\"scattergl\":[{\"marker\":{\"colorbar\":{\"outlinewidth\":0,\"ticks\":\"\"}},\"type\":\"scattergl\"}],\"scattermapbox\":[{\"marker\":{\"colorbar\":{\"outlinewidth\":0,\"ticks\":\"\"}},\"type\":\"scattermapbox\"}],\"scatterpolar\":[{\"marker\":{\"colorbar\":{\"outlinewidth\":0,\"ticks\":\"\"}},\"type\":\"scatterpolar\"}],\"scatterpolargl\":[{\"marker\":{\"colorbar\":{\"outlinewidth\":0,\"ticks\":\"\"}},\"type\":\"scatterpolargl\"}],\"scatterternary\":[{\"marker\":{\"colorbar\":{\"outlinewidth\":0,\"ticks\":\"\"}},\"type\":\"scatterternary\"}],\"surface\":[{\"colorbar\":{\"outlinewidth\":0,\"ticks\":\"\"},\"colorscale\":[[0.0,\"#0d0887\"],[0.1111111111111111,\"#46039f\"],[0.2222222222222222,\"#7201a8\"],[0.3333333333333333,\"#9c179e\"],[0.4444444444444444,\"#bd3786\"],[0.5555555555555556,\"#d8576b\"],[0.6666666666666666,\"#ed7953\"],[0.7777777777777778,\"#fb9f3a\"],[0.8888888888888888,\"#fdca26\"],[1.0,\"#f0f921\"]],\"type\":\"surface\"}],\"table\":[{\"cells\":{\"fill\":{\"color\":\"#EBF0F8\"},\"line\":{\"color\":\"white\"}},\"header\":{\"fill\":{\"color\":\"#C8D4E3\"},\"line\":{\"color\":\"white\"}},\"type\":\"table\"}]},\"layout\":{\"annotationdefaults\":{\"arrowcolor\":\"#2a3f5f\",\"arrowhead\":0,\"arrowwidth\":1},\"autotypenumbers\":\"strict\",\"coloraxis\":{\"colorbar\":{\"outlinewidth\":0,\"ticks\":\"\"}},\"colorscale\":{\"diverging\":[[0,\"#8e0152\"],[0.1,\"#c51b7d\"],[0.2,\"#de77ae\"],[0.3,\"#f1b6da\"],[0.4,\"#fde0ef\"],[0.5,\"#f7f7f7\"],[0.6,\"#e6f5d0\"],[0.7,\"#b8e186\"],[0.8,\"#7fbc41\"],[0.9,\"#4d9221\"],[1,\"#276419\"]],\"sequential\":[[0.0,\"#0d0887\"],[0.1111111111111111,\"#46039f\"],[0.2222222222222222,\"#7201a8\"],[0.3333333333333333,\"#9c179e\"],[0.4444444444444444,\"#bd3786\"],[0.5555555555555556,\"#d8576b\"],[0.6666666666666666,\"#ed7953\"],[0.7777777777777778,\"#fb9f3a\"],[0.8888888888888888,\"#fdca26\"],[1.0,\"#f0f921\"]],\"sequentialminus\":[[0.0,\"#0d0887\"],[0.1111111111111111,\"#46039f\"],[0.2222222222222222,\"#7201a8\"],[0.3333333333333333,\"#9c179e\"],[0.4444444444444444,\"#bd3786\"],[0.5555555555555556,\"#d8576b\"],[0.6666666666666666,\"#ed7953\"],[0.7777777777777778,\"#fb9f3a\"],[0.8888888888888888,\"#fdca26\"],[1.0,\"#f0f921\"]]},\"colorway\":[\"#636efa\",\"#EF553B\",\"#00cc96\",\"#ab63fa\",\"#FFA15A\",\"#19d3f3\",\"#FF6692\",\"#B6E880\",\"#FF97FF\",\"#FECB52\"],\"font\":{\"color\":\"#2a3f5f\"},\"geo\":{\"bgcolor\":\"white\",\"lakecolor\":\"white\",\"landcolor\":\"#E5ECF6\",\"showlakes\":true,\"showland\":true,\"subunitcolor\":\"white\"},\"hoverlabel\":{\"align\":\"left\"},\"hovermode\":\"closest\",\"mapbox\":{\"style\":\"light\"},\"paper_bgcolor\":\"white\",\"plot_bgcolor\":\"#E5ECF6\",\"polar\":{\"angularaxis\":{\"gridcolor\":\"white\",\"linecolor\":\"white\",\"ticks\":\"\"},\"bgcolor\":\"#E5ECF6\",\"radialaxis\":{\"gridcolor\":\"white\",\"linecolor\":\"white\",\"ticks\":\"\"}},\"scene\":{\"xaxis\":{\"backgroundcolor\":\"#E5ECF6\",\"gridcolor\":\"white\",\"gridwidth\":2,\"linecolor\":\"white\",\"showbackground\":true,\"ticks\":\"\",\"zerolinecolor\":\"white\"},\"yaxis\":{\"backgroundcolor\":\"#E5ECF6\",\"gridcolor\":\"white\",\"gridwidth\":2,\"linecolor\":\"white\",\"showbackground\":true,\"ticks\":\"\",\"zerolinecolor\":\"white\"},\"zaxis\":{\"backgroundcolor\":\"#E5ECF6\",\"gridcolor\":\"white\",\"gridwidth\":2,\"linecolor\":\"white\",\"showbackground\":true,\"ticks\":\"\",\"zerolinecolor\":\"white\"}},\"shapedefaults\":{\"line\":{\"color\":\"#2a3f5f\"}},\"ternary\":{\"aaxis\":{\"gridcolor\":\"white\",\"linecolor\":\"white\",\"ticks\":\"\"},\"baxis\":{\"gridcolor\":\"white\",\"linecolor\":\"white\",\"ticks\":\"\"},\"bgcolor\":\"#E5ECF6\",\"caxis\":{\"gridcolor\":\"white\",\"linecolor\":\"white\",\"ticks\":\"\"}},\"title\":{\"x\":0.05},\"xaxis\":{\"automargin\":true,\"gridcolor\":\"white\",\"linecolor\":\"white\",\"ticks\":\"\",\"title\":{\"standoff\":15},\"zerolinecolor\":\"white\",\"zerolinewidth\":2},\"yaxis\":{\"automargin\":true,\"gridcolor\":\"white\",\"linecolor\":\"white\",\"ticks\":\"\",\"title\":{\"standoff\":15},\"zerolinecolor\":\"white\",\"zerolinewidth\":2}}}},                        {\"responsive\": true}                    ).then(function(){\n",
              "                            \n",
              "var gd = document.getElementById('aa2efb64-6b75-4552-97a3-38a6d7ab3ef3');\n",
              "var x = new MutationObserver(function (mutations, observer) {{\n",
              "        var display = window.getComputedStyle(gd).display;\n",
              "        if (!display || display === 'none') {{\n",
              "            console.log([gd, 'removed!']);\n",
              "            Plotly.purge(gd);\n",
              "            observer.disconnect();\n",
              "        }}\n",
              "}});\n",
              "\n",
              "// Listen for the removal of the full notebook cells\n",
              "var notebookContainer = gd.closest('#notebook-container');\n",
              "if (notebookContainer) {{\n",
              "    x.observe(notebookContainer, {childList: true});\n",
              "}}\n",
              "\n",
              "// Listen for the clearing of the current output cell\n",
              "var outputEl = gd.closest('.output');\n",
              "if (outputEl) {{\n",
              "    x.observe(outputEl, {childList: true});\n",
              "}}\n",
              "\n",
              "                        })                };                            </script>        </div>\n",
              "</body>\n",
              "</html>"
            ]
          },
          "metadata": {}
        }
      ]
    },
    {
      "cell_type": "markdown",
      "source": [
        "## Gráfico"
      ],
      "metadata": {
        "id": "EW1i9TypkLtE"
      }
    },
    {
      "cell_type": "code",
      "source": [
        "import numpy as np\n",
        "import matplotlib.pyplot as plt\n",
        "\n",
        "plt.grid()\n",
        "plt.plot(y10, x10, 'b--', y_pred_test_knnr, x10[:,0], 'g-', y_pred_test_randon, x10[:,0], 'r-')\n",
        "plt.ylim(1200, 4000)\n",
        "plt.title('Modelo teste (azul) e Modelo Predito (verde) ')\n",
        "plt.xlabel('Rho (ohm.m)')\n",
        "plt.ylabel('z (m)')\n",
        "#plt.scatter(y10, x10, label = \"Teste\", color = \"b\", marker = \"-\", y_pred_test_knnr, x10[:,0], label = \"Predito\", color = \"g\", marker = \"--\" )\n"
      ],
      "metadata": {
        "colab": {
          "base_uri": "https://localhost:8080/",
          "height": 316
        },
        "outputId": "95f55492-c23b-4d8d-bac9-8788ed0880d1",
        "id": "k7wMDNqUkLtF"
      },
      "execution_count": null,
      "outputs": [
        {
          "output_type": "execute_result",
          "data": {
            "text/plain": [
              "Text(0, 0.5, 'z (m)')"
            ]
          },
          "metadata": {},
          "execution_count": 46
        },
        {
          "output_type": "display_data",
          "data": {
            "text/plain": [
              "<Figure size 432x288 with 1 Axes>"
            ],
            "image/png": "[encoded data removed]"
          },
          "metadata": {}
        }
      ]
    },
    {
      "cell_type": "markdown",
      "source": [],
      "metadata": {
        "id": "Wnk6EYSZkLtG"
      }
    }
  ]
}